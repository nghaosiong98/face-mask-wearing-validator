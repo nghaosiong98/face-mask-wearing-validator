{
  "nbformat": 4,
  "nbformat_minor": 0,
  "metadata": {
    "colab": {
      "name": "facemask-wearing-detection.ipynb",
      "provenance": []
    },
    "kernelspec": {
      "name": "python3",
      "display_name": "Python 3"
    },
    "accelerator": "GPU"
  },
  "cells": [
    {
      "cell_type": "code",
      "metadata": {
        "id": "QU-BcGjon9bw",
        "colab": {
          "base_uri": "https://localhost:8080/"
        },
        "outputId": "a5f03a83-9282-415b-d12c-9ca9bef8d6aa"
      },
      "source": [
        "from google.colab import drive\n",
        "drive.mount('/content/drive')"
      ],
      "execution_count": null,
      "outputs": [
        {
          "output_type": "stream",
          "text": [
            "Mounted at /content/drive\n"
          ],
          "name": "stdout"
        }
      ]
    },
    {
      "cell_type": "code",
      "metadata": {
        "id": "TiGxy1yArjBa"
      },
      "source": [
        "# import zipfile\n",
        "\n",
        "# zip_filename= '/content/drive/Shareddrives/UD1/Study/Image Processing/11000.zip'\n",
        "# directory_to_extract_to = '/content/drive/Shareddrives/UD1/Study/Image Processing'\n",
        "# with zipfile.ZipFile(zip_filename, 'r') as zip_ref:\n",
        "#     zip_ref.extractall(directory_to_extract_to)"
      ],
      "execution_count": null,
      "outputs": []
    },
    {
      "cell_type": "code",
      "metadata": {
        "id": "KtY2rokrsyIG"
      },
      "source": [
        "# src_path = '/content/drive/Shareddrives/UD1/Study/Image Processing/11000'\n",
        "# dest_path = '/content/drive/Shareddrives/UD1/Study/Image Processing/data'\n",
        "\n",
        "# for i in os.listdir(src_path):\n",
        "#     os.rename(os.path.join(src_path,i), os.path.join(dest_path,i))"
      ],
      "execution_count": null,
      "outputs": []
    },
    {
      "cell_type": "code",
      "metadata": {
        "id": "Ep2dpGwet_cR"
      },
      "source": [
        "import keras\n",
        "import tensorflow as tf\n",
        "from tensorflow.keras.models import Model\n",
        "from tensorflow.keras.utils import to_categorical\n",
        "import tensorflow_hub as hub\n",
        "from tensorflow.keras.preprocessing import image\n",
        "from keras_preprocessing.image import ImageDataGenerator\n",
        "from tensorflow.keras.layers import Dense, Activation, Flatten, Dropout, BatchNormalization, GlobalAveragePooling2D, Conv2D, MaxPooling2D\n",
        "from tensorflow.keras import regularizers, optimizers\n",
        "from tensorflow.keras.applications.resnet import ResNet101, ResNet50\n",
        "from tensorflow.keras.applications.mobilenet_v2 import MobileNetV2\n",
        "from tensorflow.keras.applications.resnet import preprocess_input, decode_predictions\n",
        "import random\n",
        "import os\n",
        "import cv2\n",
        "import numpy as np\n",
        "import pandas as pd\n",
        "import matplotlib.pyplot as plt\n",
        "from sklearn.model_selection import train_test_split\n",
        "from sklearn.utils import class_weight, shuffle\n",
        "from sklearn import preprocessing\n",
        "from sklearn.preprocessing import OneHotEncoder\n",
        "from sklearn.metrics import precision_recall_fscore_support, confusion_matrix, classification_report\n",
        "\n",
        "from tqdm import tqdm\n",
        "from google.colab.patches import cv2_imshow\n",
        "%matplotlib inline"
      ],
      "execution_count": null,
      "outputs": []
    },
    {
      "cell_type": "code",
      "metadata": {
        "colab": {
          "base_uri": "https://localhost:8080/",
          "height": 197
        },
        "id": "GSuKZTqUuZ4H",
        "outputId": "7922d01a-5807-48f8-f521-364a0e76f808"
      },
      "source": [
        "all_data = pd.read_csv('/content/drive/Shareddrives/UD1/Study/Image Processing/mask-data.csv')    # reading the csv file\n",
        "all_data.head()   "
      ],
      "execution_count": null,
      "outputs": [
        {
          "output_type": "execute_result",
          "data": {
            "text/html": [
              "<div>\n",
              "<style scoped>\n",
              "    .dataframe tbody tr th:only-of-type {\n",
              "        vertical-align: middle;\n",
              "    }\n",
              "\n",
              "    .dataframe tbody tr th {\n",
              "        vertical-align: top;\n",
              "    }\n",
              "\n",
              "    .dataframe thead th {\n",
              "        text-align: right;\n",
              "    }\n",
              "</style>\n",
              "<table border=\"1\" class=\"dataframe\">\n",
              "  <thead>\n",
              "    <tr style=\"text-align: right;\">\n",
              "      <th></th>\n",
              "      <th>filename</th>\n",
              "      <th>label</th>\n",
              "    </tr>\n",
              "  </thead>\n",
              "  <tbody>\n",
              "    <tr>\n",
              "      <th>0</th>\n",
              "      <td>00000_Mask.jpg</td>\n",
              "      <td>correctly_masked</td>\n",
              "    </tr>\n",
              "    <tr>\n",
              "      <th>1</th>\n",
              "      <td>00001_Mask.jpg</td>\n",
              "      <td>correctly_masked</td>\n",
              "    </tr>\n",
              "    <tr>\n",
              "      <th>2</th>\n",
              "      <td>00002_Mask.jpg</td>\n",
              "      <td>correctly_masked</td>\n",
              "    </tr>\n",
              "    <tr>\n",
              "      <th>3</th>\n",
              "      <td>00003_Mask.jpg</td>\n",
              "      <td>correctly_masked</td>\n",
              "    </tr>\n",
              "    <tr>\n",
              "      <th>4</th>\n",
              "      <td>00004_Mask.jpg</td>\n",
              "      <td>correctly_masked</td>\n",
              "    </tr>\n",
              "  </tbody>\n",
              "</table>\n",
              "</div>"
            ],
            "text/plain": [
              "         filename             label\n",
              "0  00000_Mask.jpg  correctly_masked\n",
              "1  00001_Mask.jpg  correctly_masked\n",
              "2  00002_Mask.jpg  correctly_masked\n",
              "3  00003_Mask.jpg  correctly_masked\n",
              "4  00004_Mask.jpg  correctly_masked"
            ]
          },
          "metadata": {
            "tags": []
          },
          "execution_count": 2
        }
      ]
    },
    {
      "cell_type": "code",
      "metadata": {
        "id": "Ohkfz4tgudMz"
      },
      "source": [
        "train, testval = train_test_split(all_data, test_size=0.2, random_state=22)\n",
        "val, test = train_test_split(testval, test_size=0.5, random_state=23)"
      ],
      "execution_count": null,
      "outputs": []
    },
    {
      "cell_type": "code",
      "metadata": {
        "colab": {
          "base_uri": "https://localhost:8080/"
        },
        "id": "QSIGs9u9TZTl",
        "outputId": "6492d44e-eb67-45ad-b2eb-9356454674a8"
      },
      "source": [
        "print(train.size,val.size,test.size)"
      ],
      "execution_count": null,
      "outputs": [
        {
          "output_type": "stream",
          "text": [
            "6128 766 766\n"
          ],
          "name": "stdout"
        }
      ]
    },
    {
      "cell_type": "code",
      "metadata": {
        "id": "sacAjNJ2TZ52"
      },
      "source": [
        "train = train.reset_index(drop=True)\n",
        "val = val.reset_index(drop=True)\n",
        "test = test.reset_index(drop=True)"
      ],
      "execution_count": null,
      "outputs": []
    },
    {
      "cell_type": "code",
      "metadata": {
        "id": "QF4qnoAGTbeD"
      },
      "source": [
        "onehotencoder = OneHotEncoder()\n",
        "trainY = np.array(train.label.tolist())\n",
        "trainY = onehotencoder.fit_transform(trainY.reshape(-1, 1)).toarray()\n",
        "\n",
        "valY = np.array(val.label.tolist())\n",
        "valY = onehotencoder.fit_transform(valY.reshape(-1, 1)).toarray()\n",
        "\n",
        "testY = np.array(test.label.tolist())\n",
        "testY = onehotencoder.fit_transform(testY.reshape(-1, 1)).toarray()"
      ],
      "execution_count": null,
      "outputs": []
    },
    {
      "cell_type": "code",
      "metadata": {
        "id": "LFRkc8eGTfGS"
      },
      "source": [
        "def fill(img, h, w):\n",
        "    img = cv2.resize(img, (h, w), cv2.INTER_CUBIC)\n",
        "    return img\n",
        "\n",
        "def channel_shift(img, value):\n",
        "    value = int(random.uniform(-value, value))\n",
        "    img = img + value\n",
        "    img[:,:,:][img[:,:,:]>255]  = 255\n",
        "    img[:,:,:][img[:,:,:]<0]  = 0\n",
        "    img = img.astype(np.uint8)\n",
        "    return img\n",
        "\n",
        "def zoom_img(img, value):\n",
        "    if value > 1 or value < 0:\n",
        "        print('Value for zoom should be less than 1 and greater than 0')\n",
        "        return img\n",
        "    value = random.uniform(value, 1)\n",
        "    h, w = img.shape[:2]\n",
        "    h_taken = int(value*h)\n",
        "    w_taken = int(value*w)\n",
        "    h_start = random.randint(0, h-h_taken)\n",
        "    w_start = random.randint(0, w-w_taken)\n",
        "    img = img[h_start:h_start+h_taken, w_start:w_start+w_taken, :]\n",
        "    img = fill(img, h, w)\n",
        "    return img\n",
        "\n",
        "def horizontal_flip(img, flag):\n",
        "    if flag:\n",
        "        return cv2.flip(img, 1)\n",
        "    else:\n",
        "        return img\n",
        "\n",
        "def random_rotate(img, min_angle, max_angle):\n",
        "    rotation_angle = random.uniform(min_angle, max_angle)\n",
        "    rotated_img = ImageDataGenerator().apply_transform(x=img, transform_parameters={'theta': rotation_angle}) \n",
        "    return rotated_img\n",
        "\n",
        "def horizontal_shift(img, ratio=0.0):\n",
        "    if ratio > 1 or ratio < 0:\n",
        "        print('Value should be less than 1 and greater than 0')\n",
        "        return img\n",
        "    ratio = random.uniform(-ratio, ratio)\n",
        "    h, w = img.shape[:2]\n",
        "    to_shift = w*ratio\n",
        "    if ratio > 0:\n",
        "        img = img[:, :int(w-to_shift), :]\n",
        "    if ratio < 0:\n",
        "        img = img[:, int(-1*to_shift):, :]\n",
        "    img = fill(img, h, w)\n",
        "    return img\n",
        "\n",
        "def brightness_augment(img, factor=0.5): \n",
        "    hsv = cv2.cvtColor(img, cv2.COLOR_RGB2HSV) #convert to hsv\n",
        "    hsv = np.array(hsv, dtype=np.float64)\n",
        "    hsv[:, :, 2] = hsv[:, :, 2] * (factor + np.random.uniform()) #scale channel V uniformly\n",
        "    hsv[:, :, 2][hsv[:, :, 2] > 255] = 255 #reset out of range values\n",
        "    rgb = cv2.cvtColor(np.array(hsv, dtype=np.uint8), cv2.COLOR_HSV2RGB)\n",
        "    return rgb"
      ],
      "execution_count": null,
      "outputs": []
    },
    {
      "cell_type": "code",
      "metadata": {
        "id": "7_k4UAz7TmNX"
      },
      "source": [
        "def generator(data, Y, batch_size = 32, shift = False, flip = False, channel = False, zoom = False, brightness = False, rotation = False):\n",
        "    while True:\n",
        "        for start in range(0, len(data), batch_size):\n",
        "            x_batch = []\n",
        "            y_batch = []\n",
        "            end = min(start + batch_size, len(data))\n",
        "            for i in range(start, end):\n",
        "                img = cv2.imread(\"/content/drive/Shareddrives/UD1/Study/Image Processing/data/\" + data['filename'][i])\n",
        "                img = cv2.resize(img, (224, 224))\n",
        "                x_batch.append(img)\n",
        "                y_batch.append(Y[i])\n",
        "                if shift:\n",
        "                    shift_img = horizontal_shift(img, 0.7)\n",
        "                    x_batch.append(img)\n",
        "                    y_batch.append(Y[i])\n",
        "                if flip:\n",
        "                    flip_img = horizontal_flip(img, True)\n",
        "                    x_batch.append(flip_img)\n",
        "                    y_batch.append(Y[i])\n",
        "                if shift:\n",
        "                    channel_img = channel_shift(img, 60)\n",
        "                    x_batch.append(channel_img)\n",
        "                    y_batch.append(Y[i])\n",
        "                if zoom:\n",
        "                    zoom_image = zoom_img(img, 0.8)\n",
        "                    x_batch.append(zoom_image)\n",
        "                    y_batch.append(Y[i])\n",
        "                if brightness:\n",
        "                    brightness_intensity = random.uniform(0.3, 7.0)\n",
        "                    brightness_img = ImageDataGenerator().apply_transform(x=img, transform_parameters={'brightness': brightness_intensity})\n",
        "                    x_batch.append(brightness_img)\n",
        "                    y_batch.append(Y[i])\n",
        "                if rotation:\n",
        "                    rotated_img = random_rotate(img, -90.0, 90.0)\n",
        "                    x_batch.append(rotated_img)\n",
        "                    y_batch.append(Y[i])\n",
        "            x_batch, y_batch = shuffle(x_batch, y_batch)\n",
        "            yield np.array(x_batch),np.array(y_batch)"
      ],
      "execution_count": null,
      "outputs": []
    },
    {
      "cell_type": "code",
      "metadata": {
        "id": "tWkZZjGcTotI"
      },
      "source": [
        "train_label_list = train[\"label\"].tolist()"
      ],
      "execution_count": null,
      "outputs": []
    },
    {
      "cell_type": "code",
      "metadata": {
        "colab": {
          "base_uri": "https://localhost:8080/"
        },
        "id": "0nlozYmWTyY7",
        "outputId": "bf6e4371-5ff7-47ac-8b68-b4305d14fc8b"
      },
      "source": [
        "np.unique(train_label_list)"
      ],
      "execution_count": null,
      "outputs": [
        {
          "output_type": "execute_result",
          "data": {
            "text/plain": [
              "array(['correctly_masked', 'incorrectly_masked'], dtype='<U18')"
            ]
          },
          "metadata": {
            "tags": []
          },
          "execution_count": 14
        }
      ]
    },
    {
      "cell_type": "code",
      "metadata": {
        "colab": {
          "base_uri": "https://localhost:8080/"
        },
        "id": "RKLtDDERTrQn",
        "outputId": "2af11d39-3156-43e9-af36-b949f0adc5d4"
      },
      "source": [
        "class_weights = class_weight.compute_class_weight('balanced',\n",
        "                                                 np.unique(train_label_list),\n",
        "                                                 train_label_list)\n",
        "class_weights\n",
        "\n",
        "calculated_weights = {\n",
        "    0: class_weights[0],\n",
        "    1: class_weights[1],\n",
        "}\n",
        "calculated_weights"
      ],
      "execution_count": null,
      "outputs": [
        {
          "output_type": "execute_result",
          "data": {
            "text/plain": [
              "{0: 0.9986962190352021, 1: 1.0013071895424837}"
            ]
          },
          "metadata": {
            "tags": []
          },
          "execution_count": 15
        }
      ]
    },
    {
      "cell_type": "code",
      "metadata": {
        "id": "CgoBXedAS-7N"
      },
      "source": [
        "INPUT_SHAPE = (224, 224, 3)\n",
        "INIT_LR = 1e-4\n",
        "EPOCHS = 20\n",
        "BATCH_SIZE = 32"
      ],
      "execution_count": null,
      "outputs": []
    },
    {
      "cell_type": "code",
      "metadata": {
        "colab": {
          "base_uri": "https://localhost:8080/"
        },
        "id": "zuLRq152TxGz",
        "outputId": "56d12008-178b-4d1b-de7a-63b39c6a0042"
      },
      "source": [
        "base_model = MobileNetV2(\n",
        "    weights='imagenet',\n",
        "    include_top=False,\n",
        "    input_shape=INPUT_SHAPE,\n",
        "    )\n",
        "\n",
        "base_model.trainable = False\n",
        "\n",
        "inputs = keras.Input(shape=INPUT_SHAPE)\n",
        "\n",
        "x = base_model(inputs, training=False)\n",
        "x = GlobalAveragePooling2D()(x)\n",
        "x = Dense(128, activation=\"relu\")(x)\n",
        "x = keras.layers.Dropout(0.2)(x)\n",
        "outputs = Dense(2, activation='softmax')(x)\n",
        "model = Model(inputs, outputs)\n",
        "\n",
        "lr_schedule = tf.keras.optimizers.schedules.ExponentialDecay(\n",
        "    initial_learning_rate=INIT_LR,\n",
        "    decay_steps=100000,\n",
        "    decay_rate=0.94,\n",
        "    staircase=True,\n",
        ")\n",
        "\n",
        "model.compile(\n",
        "    optimizer = keras.optimizers.Adam(learning_rate=lr_schedule),\n",
        "    loss=keras.losses.CategoricalCrossentropy(from_logits=True),\n",
        "    metrics=[keras.metrics.CategoricalAccuracy()]\n",
        "    )\n",
        "\n",
        "model.summary()"
      ],
      "execution_count": null,
      "outputs": [
        {
          "output_type": "stream",
          "text": [
            "Model: \"functional_15\"\n",
            "_________________________________________________________________\n",
            "Layer (type)                 Output Shape              Param #   \n",
            "=================================================================\n",
            "input_16 (InputLayer)        [(None, 224, 224, 3)]     0         \n",
            "_________________________________________________________________\n",
            "mobilenetv2_1.00_224 (Functi (None, 7, 7, 1280)        2257984   \n",
            "_________________________________________________________________\n",
            "global_average_pooling2d_7 ( (None, 1280)              0         \n",
            "_________________________________________________________________\n",
            "dense_12 (Dense)             (None, 128)               163968    \n",
            "_________________________________________________________________\n",
            "dropout_7 (Dropout)          (None, 128)               0         \n",
            "_________________________________________________________________\n",
            "dense_13 (Dense)             (None, 2)                 258       \n",
            "=================================================================\n",
            "Total params: 2,422,210\n",
            "Trainable params: 164,226\n",
            "Non-trainable params: 2,257,984\n",
            "_________________________________________________________________\n"
          ],
          "name": "stdout"
        }
      ]
    },
    {
      "cell_type": "code",
      "metadata": {
        "colab": {
          "base_uri": "https://localhost:8080/"
        },
        "id": "EX0L3MfxUAcg",
        "outputId": "219d8ab8-5572-46f4-cd44-8d3f11756c5f"
      },
      "source": [
        "hist = model.fit(\n",
        "    x=generator(train, trainY, BATCH_SIZE, shift=False, flip=True, channel=False, zoom=False, brightness=False, rotation=True),\n",
        "    epochs=EPOCHS,\n",
        "    steps_per_epoch=len(train)//BATCH_SIZE,\n",
        "    class_weight= calculated_weights,\n",
        "    validation_data=generator(val, valY, BATCH_SIZE),\n",
        "    validation_steps=len(val)//BATCH_SIZE,\n",
        "    ).history"
      ],
      "execution_count": null,
      "outputs": [
        {
          "output_type": "stream",
          "text": [
            "Epoch 1/20\n",
            "95/95 [==============================] - 105s 1s/step - loss: 0.6616 - categorical_accuracy: 0.6054 - val_loss: 0.5749 - val_categorical_accuracy: 0.7614\n",
            "Epoch 2/20\n",
            "95/95 [==============================] - 103s 1s/step - loss: 0.5724 - categorical_accuracy: 0.7485 - val_loss: 0.5135 - val_categorical_accuracy: 0.8239\n",
            "Epoch 3/20\n",
            "95/95 [==============================] - 103s 1s/step - loss: 0.5328 - categorical_accuracy: 0.7925 - val_loss: 0.4886 - val_categorical_accuracy: 0.8409\n",
            "Epoch 4/20\n",
            "95/95 [==============================] - 101s 1s/step - loss: 0.5109 - categorical_accuracy: 0.8159 - val_loss: 0.4694 - val_categorical_accuracy: 0.8636\n",
            "Epoch 5/20\n",
            "95/95 [==============================] - 101s 1s/step - loss: 0.4946 - categorical_accuracy: 0.8305 - val_loss: 0.4582 - val_categorical_accuracy: 0.8722\n",
            "Epoch 6/20\n",
            "95/95 [==============================] - 101s 1s/step - loss: 0.4820 - categorical_accuracy: 0.8410 - val_loss: 0.4486 - val_categorical_accuracy: 0.8920\n",
            "Epoch 7/20\n",
            "95/95 [==============================] - 102s 1s/step - loss: 0.4785 - categorical_accuracy: 0.8448 - val_loss: 0.4403 - val_categorical_accuracy: 0.9006\n",
            "Epoch 8/20\n",
            "95/95 [==============================] - 102s 1s/step - loss: 0.4664 - categorical_accuracy: 0.8575 - val_loss: 0.4307 - val_categorical_accuracy: 0.9119\n",
            "Epoch 9/20\n",
            "95/95 [==============================] - 102s 1s/step - loss: 0.4645 - categorical_accuracy: 0.8544 - val_loss: 0.4225 - val_categorical_accuracy: 0.9205\n",
            "Epoch 10/20\n",
            "95/95 [==============================] - 103s 1s/step - loss: 0.4530 - categorical_accuracy: 0.8674 - val_loss: 0.4212 - val_categorical_accuracy: 0.9091\n",
            "Epoch 11/20\n",
            "95/95 [==============================] - 103s 1s/step - loss: 0.4520 - categorical_accuracy: 0.8659 - val_loss: 0.4195 - val_categorical_accuracy: 0.9034\n",
            "Epoch 12/20\n",
            "95/95 [==============================] - 102s 1s/step - loss: 0.4464 - categorical_accuracy: 0.8743 - val_loss: 0.4150 - val_categorical_accuracy: 0.9119\n",
            "Epoch 13/20\n",
            "95/95 [==============================] - 103s 1s/step - loss: 0.4457 - categorical_accuracy: 0.8716 - val_loss: 0.4135 - val_categorical_accuracy: 0.9205\n",
            "Epoch 14/20\n",
            "95/95 [==============================] - 102s 1s/step - loss: 0.4415 - categorical_accuracy: 0.8810 - val_loss: 0.4187 - val_categorical_accuracy: 0.8920\n",
            "Epoch 15/20\n",
            "95/95 [==============================] - 103s 1s/step - loss: 0.4386 - categorical_accuracy: 0.8801 - val_loss: 0.4188 - val_categorical_accuracy: 0.8864\n",
            "Epoch 16/20\n",
            "95/95 [==============================] - 103s 1s/step - loss: 0.4381 - categorical_accuracy: 0.8807 - val_loss: 0.4074 - val_categorical_accuracy: 0.9205\n",
            "Epoch 17/20\n",
            "95/95 [==============================] - 102s 1s/step - loss: 0.4334 - categorical_accuracy: 0.8857 - val_loss: 0.4017 - val_categorical_accuracy: 0.9205\n",
            "Epoch 18/20\n",
            "95/95 [==============================] - 103s 1s/step - loss: 0.4306 - categorical_accuracy: 0.8860 - val_loss: 0.3983 - val_categorical_accuracy: 0.9318\n",
            "Epoch 19/20\n",
            "95/95 [==============================] - 103s 1s/step - loss: 0.4300 - categorical_accuracy: 0.8883 - val_loss: 0.3999 - val_categorical_accuracy: 0.9290\n",
            "Epoch 20/20\n",
            "95/95 [==============================] - 103s 1s/step - loss: 0.4281 - categorical_accuracy: 0.8906 - val_loss: 0.3974 - val_categorical_accuracy: 0.9432\n"
          ],
          "name": "stdout"
        }
      ]
    },
    {
      "cell_type": "code",
      "metadata": {
        "colab": {
          "base_uri": "https://localhost:8080/",
          "height": 317
        },
        "id": "ebFFOU0DUJwm",
        "outputId": "12e66010-589c-4c19-8296-9c36b8e6a9bf"
      },
      "source": [
        "N = EPOCHS\n",
        "plt.style.use(\"ggplot\")\n",
        "plt.figure()\n",
        "plt.plot(np.arange(0, N), hist[\"loss\"], label=\"train_loss\")\n",
        "plt.plot(np.arange(0, N), hist[\"val_loss\"], label=\"val_loss\")\n",
        "plt.plot(np.arange(0, N), hist[\"categorical_accuracy\"], label=\"categorical_accuracy\")\n",
        "plt.plot(np.arange(0, N), hist[\"val_categorical_accuracy\"], label=\"val_categorical_accuracy\")\n",
        "plt.title(\"Training Loss and Accuracy\")\n",
        "plt.xlabel(\"Epoch #\")\n",
        "plt.ylabel(\"Loss/Accuracy\")\n",
        "plt.legend(loc=\"lower left\")"
      ],
      "execution_count": null,
      "outputs": [
        {
          "output_type": "execute_result",
          "data": {
            "text/plain": [
              "<matplotlib.legend.Legend at 0x7f75401b05f8>"
            ]
          },
          "metadata": {
            "tags": []
          },
          "execution_count": 72
        },
        {
          "output_type": "display_data",
          "data": {
            "image/png": "[encoded data removed]",
            "text/plain": [
              "<Figure size 432x288 with 1 Axes>"
            ]
          },
          "metadata": {
            "tags": []
          }
        }
      ]
    },
    {
      "cell_type": "code",
      "metadata": {
        "colab": {
          "base_uri": "https://localhost:8080/"
        },
        "id": "LG2U97XhfZqA",
        "outputId": "3e390853-7b92-472d-b95f-c683497a7a7a"
      },
      "source": [
        "pred=model.predict(\n",
        "    x = generator(test, testY, 1),\n",
        "    steps = len(test),\n",
        "    verbose = 1\n",
        ")\n",
        "test_preds = np.argmax(pred, axis=1)\n",
        "test_trues = np.argmax(testY, axis=-1)\n",
        "print('Confusion matrix:\\n', confusion_matrix(test_trues, test_preds))\n",
        "print('F1 score:\\n', classification_report(test_trues, test_preds))"
      ],
      "execution_count": null,
      "outputs": [
        {
          "output_type": "stream",
          "text": [
            "383/383 [==============================] - 380s 992ms/step\n",
            "Confusion matrix:\n",
            " [[178  14]\n",
            " [ 16 175]]\n",
            "F1 score:\n",
            "               precision    recall  f1-score   support\n",
            "\n",
            "           0       0.92      0.93      0.92       192\n",
            "           1       0.93      0.92      0.92       191\n",
            "\n",
            "    accuracy                           0.92       383\n",
            "   macro avg       0.92      0.92      0.92       383\n",
            "weighted avg       0.92      0.92      0.92       383\n",
            "\n"
          ],
          "name": "stdout"
        }
      ]
    },
    {
      "cell_type": "code",
      "metadata": {
        "colab": {
          "base_uri": "https://localhost:8080/"
        },
        "id": "exAg_2ZffcQA",
        "outputId": "6d26cdc5-a60c-49b2-8672-2ca3ecbe0b4d"
      },
      "source": [
        "model.save('/content/drive/Shareddrives/UD1/Study/Image Processing/output-v2')"
      ],
      "execution_count": null,
      "outputs": [
        {
          "output_type": "stream",
          "text": [
            "WARNING:tensorflow:From /usr/local/lib/python3.6/dist-packages/tensorflow/python/training/tracking/tracking.py:111: Model.state_updates (from tensorflow.python.keras.engine.training) is deprecated and will be removed in a future version.\n",
            "Instructions for updating:\n",
            "This property should not be used in TensorFlow 2.0, as updates are applied automatically.\n",
            "WARNING:tensorflow:From /usr/local/lib/python3.6/dist-packages/tensorflow/python/training/tracking/tracking.py:111: Layer.updates (from tensorflow.python.keras.engine.base_layer) is deprecated and will be removed in a future version.\n",
            "Instructions for updating:\n",
            "This property should not be used in TensorFlow 2.0, as updates are applied automatically.\n",
            "INFO:tensorflow:Assets written to: /content/drive/Shareddrives/UD1/Study/Image Processing/output-v2/assets\n"
          ],
          "name": "stdout"
        }
      ]
    },
    {
      "cell_type": "code",
      "metadata": {
        "colab": {
          "base_uri": "https://localhost:8080/"
        },
        "id": "XDkSHmc7BOJU",
        "outputId": "d4382530-5ef5-4151-b412-75278977afc1"
      },
      "source": [
        "model.trainable = True\n",
        "model.summary()\n",
        "lr_schedule = tf.keras.optimizers.schedules.ExponentialDecay(\n",
        "    initial_learning_rate=1e-5,\n",
        "    decay_steps=100000,\n",
        "    decay_rate=0.94,\n",
        "    staircase=True,\n",
        ")\n",
        "model.compile(\n",
        "    optimizer=keras.optimizers.Adam(lr_schedule),  # Very low learning rate\n",
        "    loss=keras.losses.CategoricalCrossentropy(from_logits=True),\n",
        "    metrics=[keras.metrics.CategoricalAccuracy()],\n",
        ")"
      ],
      "execution_count": null,
      "outputs": [
        {
          "output_type": "stream",
          "text": [
            "Model: \"functional_15\"\n",
            "_________________________________________________________________\n",
            "Layer (type)                 Output Shape              Param #   \n",
            "=================================================================\n",
            "input_16 (InputLayer)        [(None, 224, 224, 3)]     0         \n",
            "_________________________________________________________________\n",
            "mobilenetv2_1.00_224 (Functi (None, 7, 7, 1280)        2257984   \n",
            "_________________________________________________________________\n",
            "global_average_pooling2d_7 ( (None, 1280)              0         \n",
            "_________________________________________________________________\n",
            "dense_12 (Dense)             (None, 128)               163968    \n",
            "_________________________________________________________________\n",
            "dropout_7 (Dropout)          (None, 128)               0         \n",
            "_________________________________________________________________\n",
            "dense_13 (Dense)             (None, 2)                 258       \n",
            "=================================================================\n",
            "Total params: 2,422,210\n",
            "Trainable params: 2,388,098\n",
            "Non-trainable params: 34,112\n",
            "_________________________________________________________________\n"
          ],
          "name": "stdout"
        }
      ]
    },
    {
      "cell_type": "code",
      "metadata": {
        "colab": {
          "base_uri": "https://localhost:8080/"
        },
        "id": "IJSAPpwrhrQZ",
        "outputId": "f8a883b9-5a3f-47d3-b567-0704d6bf9d1a"
      },
      "source": [
        "base_model.trainable = True\n",
        "model.summary()\n",
        "\n",
        "model.compile(\n",
        "    optimizer=keras.optimizers.Adam(1e-5),  # Very low learning rate\n",
        "    loss=keras.losses.CategoricalCrossentropy(from_logits=True),\n",
        "    metrics=[keras.metrics.CategoricalAccuracy()],\n",
        ")"
      ],
      "execution_count": null,
      "outputs": [
        {
          "output_type": "stream",
          "text": [
            "Model: \"functional_3\"\n",
            "_________________________________________________________________\n",
            "Layer (type)                 Output Shape              Param #   \n",
            "=================================================================\n",
            "input_4 (InputLayer)         [(None, 224, 224, 3)]     0         \n",
            "_________________________________________________________________\n",
            "mobilenetv2_1.00_224 (Functi (None, 7, 7, 1280)        2257984   \n",
            "_________________________________________________________________\n",
            "global_average_pooling2d_1 ( (None, 1280)              0         \n",
            "_________________________________________________________________\n",
            "dropout_1 (Dropout)          (None, 1280)              0         \n",
            "_________________________________________________________________\n",
            "dense_1 (Dense)              (None, 2)                 2562      \n",
            "=================================================================\n",
            "Total params: 2,260,546\n",
            "Trainable params: 2,226,434\n",
            "Non-trainable params: 34,112\n",
            "_________________________________________________________________\n"
          ],
          "name": "stdout"
        }
      ]
    },
    {
      "cell_type": "code",
      "metadata": {
        "colab": {
          "base_uri": "https://localhost:8080/"
        },
        "id": "-DTt8AiBhzEJ",
        "outputId": "361b280d-337f-4886-b18b-d9f8d113d4b5"
      },
      "source": [
        "FINE_TUNE_EPOCHS = 10\n",
        "hist = model.fit(\n",
        "    x=generator(train, trainY, BATCH_SIZE, shift=False, flip=True, channel=False, zoom=False, brightness=False, rotation=True),\n",
        "    epochs=FINE_TUNE_EPOCHS,\n",
        "    steps_per_epoch=len(train)//BATCH_SIZE,\n",
        "    class_weight= calculated_weights,\n",
        "    validation_data=generator(val, valY, BATCH_SIZE),\n",
        "    validation_steps=len(val)//BATCH_SIZE,\n",
        "    ).history"
      ],
      "execution_count": null,
      "outputs": [
        {
          "output_type": "stream",
          "text": [
            "Epoch 1/10\n",
            " 2/95 [..............................] - ETA: 14s - loss: 0.5176 - categorical_accuracy: 0.7812WARNING:tensorflow:Callbacks method `on_train_batch_end` is slow compared to the batch time (batch time: 0.0698s vs `on_train_batch_end` time: 0.2482s). Check your callbacks.\n",
            "95/95 [==============================] - 2103s 22s/step - loss: 0.4046 - categorical_accuracy: 0.9061 - val_loss: 0.3678 - val_categorical_accuracy: 0.9489\n",
            "Epoch 2/10\n",
            "95/95 [==============================] - 99s 1s/step - loss: 0.3661 - categorical_accuracy: 0.9461 - val_loss: 0.3877 - val_categorical_accuracy: 0.9205\n",
            "Epoch 3/10\n",
            "95/95 [==============================] - 99s 1s/step - loss: 0.3526 - categorical_accuracy: 0.9593 - val_loss: 0.3335 - val_categorical_accuracy: 0.9858\n",
            "Epoch 4/10\n",
            "95/95 [==============================] - 100s 1s/step - loss: 0.3426 - categorical_accuracy: 0.9713 - val_loss: 0.3308 - val_categorical_accuracy: 0.9830\n",
            "Epoch 5/10\n",
            "95/95 [==============================] - 100s 1s/step - loss: 0.3321 - categorical_accuracy: 0.9815 - val_loss: 0.3411 - val_categorical_accuracy: 0.9744\n",
            "Epoch 6/10\n",
            "95/95 [==============================] - 101s 1s/step - loss: 0.3299 - categorical_accuracy: 0.9842 - val_loss: 0.3265 - val_categorical_accuracy: 0.9858\n",
            "Epoch 7/10\n",
            "95/95 [==============================] - 101s 1s/step - loss: 0.3285 - categorical_accuracy: 0.9834 - val_loss: 0.3241 - val_categorical_accuracy: 0.9915\n",
            "Epoch 8/10\n",
            "95/95 [==============================] - 100s 1s/step - loss: 0.3240 - categorical_accuracy: 0.9899 - val_loss: 0.3285 - val_categorical_accuracy: 0.9801\n",
            "Epoch 9/10\n",
            "95/95 [==============================] - 102s 1s/step - loss: 0.3259 - categorical_accuracy: 0.9875 - val_loss: 0.3330 - val_categorical_accuracy: 0.9801\n",
            "Epoch 10/10\n",
            "95/95 [==============================] - 101s 1s/step - loss: 0.3294 - categorical_accuracy: 0.9834 - val_loss: 0.3217 - val_categorical_accuracy: 0.9943\n"
          ],
          "name": "stdout"
        }
      ]
    },
    {
      "cell_type": "code",
      "metadata": {
        "colab": {
          "base_uri": "https://localhost:8080/",
          "height": 317
        },
        "id": "KKQK6wK3h4_d",
        "outputId": "96b2f604-4f5d-4d0b-f850-f1565f736412"
      },
      "source": [
        "N = FINE_TUNE_EPOCHS\n",
        "plt.style.use(\"ggplot\")\n",
        "plt.figure()\n",
        "plt.plot(np.arange(0, N), hist[\"loss\"], label=\"train_loss\")\n",
        "plt.plot(np.arange(0, N), hist[\"val_loss\"], label=\"val_loss\")\n",
        "plt.plot(np.arange(0, N), hist[\"categorical_accuracy\"], label=\"categorical_accuracy\")\n",
        "plt.plot(np.arange(0, N), hist[\"val_categorical_accuracy\"], label=\"val_categorical_accuracy\")\n",
        "plt.title(\"Training Loss and Accuracy\")\n",
        "plt.xlabel(\"Epoch #\")\n",
        "plt.ylabel(\"Loss/Accuracy\")\n",
        "plt.legend(loc=\"lower left\")"
      ],
      "execution_count": null,
      "outputs": [
        {
          "output_type": "execute_result",
          "data": {
            "text/plain": [
              "<matplotlib.legend.Legend at 0x7f9cda46c518>"
            ]
          },
          "metadata": {
            "tags": []
          },
          "execution_count": 18
        },
        {
          "output_type": "display_data",
          "data": {
            "image/png": "[encoded data removed]",
            "text/plain": [
              "<Figure size 432x288 with 1 Axes>"
            ]
          },
          "metadata": {
            "tags": []
          }
        }
      ]
    },
    {
      "cell_type": "code",
      "metadata": {
        "colab": {
          "base_uri": "https://localhost:8080/"
        },
        "id": "a_kvMABkiLqd",
        "outputId": "7fda6d76-810e-40d0-a6ea-ff7a17164141"
      },
      "source": [
        "pred =model.predict(\n",
        "    x = generator(test, testY, 1),\n",
        "    steps = len(test),\n",
        "    verbose = 1\n",
        ")\n",
        "test_preds = np.argmax(pred, axis=1)\n",
        "test_trues = np.argmax(testY, axis=-1)\n",
        "print('Confusion matrix:\\n', confusion_matrix(test_trues, test_preds))\n",
        "print('F1 score:\\n', classification_report(test_trues, test_preds))"
      ],
      "execution_count": null,
      "outputs": [
        {
          "output_type": "stream",
          "text": [
            "383/383 [==============================] - 8s 22ms/step\n",
            "Confusion matrix:\n",
            " [[191   1]\n",
            " [  6 185]]\n",
            "F1 score:\n",
            "               precision    recall  f1-score   support\n",
            "\n",
            "           0       0.97      0.99      0.98       192\n",
            "           1       0.99      0.97      0.98       191\n",
            "\n",
            "    accuracy                           0.98       383\n",
            "   macro avg       0.98      0.98      0.98       383\n",
            "weighted avg       0.98      0.98      0.98       383\n",
            "\n"
          ],
          "name": "stdout"
        }
      ]
    },
    {
      "cell_type": "code",
      "metadata": {
        "colab": {
          "base_uri": "https://localhost:8080/"
        },
        "id": "XoQOx2EoiUNh",
        "outputId": "92017469-d10c-4fdf-8a28-f9d1bd2d1188"
      },
      "source": [
        "model.save('/content/drive/Shareddrives/UD1/Study/Image Processing/output_finetuned-v2')"
      ],
      "execution_count": null,
      "outputs": [
        {
          "output_type": "stream",
          "text": [
            "WARNING:tensorflow:From /usr/local/lib/python3.6/dist-packages/tensorflow/python/training/tracking/tracking.py:111: Model.state_updates (from tensorflow.python.keras.engine.training) is deprecated and will be removed in a future version.\n",
            "Instructions for updating:\n",
            "This property should not be used in TensorFlow 2.0, as updates are applied automatically.\n",
            "WARNING:tensorflow:From /usr/local/lib/python3.6/dist-packages/tensorflow/python/training/tracking/tracking.py:111: Layer.updates (from tensorflow.python.keras.engine.base_layer) is deprecated and will be removed in a future version.\n",
            "Instructions for updating:\n",
            "This property should not be used in TensorFlow 2.0, as updates are applied automatically.\n",
            "INFO:tensorflow:Assets written to: /content/drive/Shareddrives/UD1/Study/Image Processing/output_finetuned-v2/assets\n"
          ],
          "name": "stdout"
        }
      ]
    },
    {
      "cell_type": "markdown",
      "metadata": {
        "id": "vVxNDAOICtDX"
      },
      "source": [
        "# Test with local image"
      ]
    },
    {
      "cell_type": "code",
      "metadata": {
        "id": "qxfPmpvQD1G4"
      },
      "source": [
        "model = tf.keras.models.load_model('/content/drive/Shareddrives/UD1/Study/Image Processing/output-v2')"
      ],
      "execution_count": null,
      "outputs": []
    },
    {
      "cell_type": "code",
      "metadata": {
        "colab": {
          "base_uri": "https://localhost:8080/"
        },
        "id": "0Bt5pVFUEFqm",
        "outputId": "d4ad373d-a760-463c-c78e-ab830fa0ae62"
      },
      "source": [
        "model.summary()"
      ],
      "execution_count": null,
      "outputs": [
        {
          "output_type": "stream",
          "text": [
            "Model: \"functional_15\"\n",
            "_________________________________________________________________\n",
            "Layer (type)                 Output Shape              Param #   \n",
            "=================================================================\n",
            "input_16 (InputLayer)        [(None, 224, 224, 3)]     0         \n",
            "_________________________________________________________________\n",
            "mobilenetv2_1.00_224 (Functi (None, 7, 7, 1280)        2257984   \n",
            "_________________________________________________________________\n",
            "global_average_pooling2d_7 ( (None, 1280)              0         \n",
            "_________________________________________________________________\n",
            "dense_12 (Dense)             (None, 128)               163968    \n",
            "_________________________________________________________________\n",
            "dropout_7 (Dropout)          (None, 128)               0         \n",
            "_________________________________________________________________\n",
            "dense_13 (Dense)             (None, 2)                 258       \n",
            "=================================================================\n",
            "Total params: 2,422,210\n",
            "Trainable params: 2,388,098\n",
            "Non-trainable params: 34,112\n",
            "_________________________________________________________________\n"
          ],
          "name": "stdout"
        }
      ]
    },
    {
      "cell_type": "code",
      "metadata": {
        "id": "_ODjMLJaCu_N"
      },
      "source": [
        "test_img = cv2.imread('/content/photo.jpg')\n",
        "test_img = cv2.resize(test_img, (224, 224))\n",
        "test_result = model.predict(x = np.array([test_img]), steps=1, verbose=1)\n",
        "print(test_result)\n",
        "np.argmax(test_result, axis=1)"
      ],
      "execution_count": null,
      "outputs": []
    },
    {
      "cell_type": "code",
      "metadata": {
        "id": "3L4r4fkmC6u0"
      },
      "source": [
        "from IPython.display import display, Javascript\n",
        "from google.colab.output import eval_js\n",
        "from base64 import b64decode\n",
        "\n",
        "def take_photo(filename='photo.jpg', quality=0.8):\n",
        "  js = Javascript('''\n",
        "    async function takePhoto(quality) {\n",
        "      const div = document.createElement('div');\n",
        "      const capture = document.createElement('button');\n",
        "      capture.textContent = 'Capture';\n",
        "      div.appendChild(capture);\n",
        "\n",
        "      const video = document.createElement('video');\n",
        "      video.style.display = 'block';\n",
        "      const stream = await navigator.mediaDevices.getUserMedia({video: true});\n",
        "\n",
        "      document.body.appendChild(div);\n",
        "      div.appendChild(video);\n",
        "      video.srcObject = stream;\n",
        "      await video.play();\n",
        "\n",
        "      // Resize the output to fit the video element.\n",
        "      google.colab.output.setIframeHeight(document.documentElement.scrollHeight, true);\n",
        "\n",
        "      // Wait for Capture to be clicked.\n",
        "      await new Promise((resolve) => capture.onclick = resolve);\n",
        "\n",
        "      const canvas = document.createElement('canvas');\n",
        "      canvas.width = video.videoWidth;\n",
        "      canvas.height = video.videoHeight;\n",
        "      canvas.getContext('2d').drawImage(video, 0, 0);\n",
        "      stream.getVideoTracks()[0].stop();\n",
        "      div.remove();\n",
        "      return canvas.toDataURL('image/jpeg', quality);\n",
        "    }\n",
        "    ''')\n",
        "  display(js)\n",
        "  data = eval_js('takePhoto({})'.format(quality))\n",
        "  binary = b64decode(data.split(',')[1])\n",
        "  with open(filename, 'wb') as f:\n",
        "    f.write(binary)\n",
        "  return filename"
      ],
      "execution_count": null,
      "outputs": []
    },
    {
      "cell_type": "code",
      "metadata": {
        "id": "5lqVW0UFC6u0"
      },
      "source": [
        "from IPython.display import Image\n",
        "try:\n",
        "  filename = take_photo()\n",
        "  print('Saved to {}'.format(filename))\n",
        "  \n",
        "  # Show the image which was just taken.\n",
        "  display(Image(filename))\n",
        "except Exception as err:\n",
        "  # Errors will be thrown if the user does not have a webcam or if they do not\n",
        "  # grant the page permission to access it.\n",
        "  print(str(err))"
      ],
      "execution_count": null,
      "outputs": []
    },
    {
      "cell_type": "code",
      "metadata": {
        "id": "THXwy0qgC-zi"
      },
      "source": [
        ""
      ],
      "execution_count": null,
      "outputs": []
    }
  ]
}